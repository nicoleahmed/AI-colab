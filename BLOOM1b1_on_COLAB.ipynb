{
  "nbformat": 4,
  "nbformat_minor": 0,
  "metadata": {
    "colab": {
      "provenance": [],
      "collapsed_sections": [],
      "authorship_tag": "ABX9TyPCD4ka92sKx6CVot9+OTdz",
      "include_colab_link": true
    },
    "kernelspec": {
      "name": "python3",
      "display_name": "Python 3"
    },
    "language_info": {
      "name": "python"
    }
  },
  "cells": [
    {
      "cell_type": "markdown",
      "metadata": {
        "id": "view-in-github",
        "colab_type": "text"
      },
      "source": [
        "<a href=\"https://colab.research.google.com/github/nicoleahmed/AI-colab/blob/main/BLOOM1b1_on_COLAB.ipynb\" target=\"_parent\"><img src=\"https://colab.research.google.com/assets/colab-badge.svg\" alt=\"Open In Colab\"/></a>"
      ]
    },
    {
      "cell_type": "markdown",
      "source": [
        "## **BLOOM on COLAB**\n",
        "followed [video](https://www.youtube.com/watch?v=rrZGIR5CryM/)\n",
        "by [code_your_own_ai](https://www.youtube.com/c/codeyourownAI)"
      ],
      "metadata": {
        "id": "bKRzScluggZN"
      }
    },
    {
      "cell_type": "code",
      "execution_count": 23,
      "metadata": {
        "colab": {
          "base_uri": "https://localhost:8080/"
        },
        "id": "hRfF-hAJapmc",
        "outputId": "228a43b7-bf94-468b-aca4-6439b3707e32"
      },
      "outputs": [
        {
          "output_type": "stream",
          "name": "stdout",
          "text": [
            "Looking in indexes: https://pypi.org/simple, https://us-python.pkg.dev/colab-wheels/public/simple/\n",
            "Requirement already satisfied: torch in /usr/local/lib/python3.7/dist-packages (1.12.1+cu113)\n",
            "Requirement already satisfied: typing-extensions in /usr/local/lib/python3.7/dist-packages (from torch) (4.1.1)\n"
          ]
        }
      ],
      "source": [
        "!pip install torch"
      ]
    },
    {
      "cell_type": "code",
      "source": [
        "!pip install transformers"
      ],
      "metadata": {
        "colab": {
          "base_uri": "https://localhost:8080/"
        },
        "id": "SZO_GEU0azAx",
        "outputId": "3621fb56-401a-4635-b6fb-f5d47d1932e0"
      },
      "execution_count": 24,
      "outputs": [
        {
          "output_type": "stream",
          "name": "stdout",
          "text": [
            "Looking in indexes: https://pypi.org/simple, https://us-python.pkg.dev/colab-wheels/public/simple/\n",
            "Requirement already satisfied: transformers in /usr/local/lib/python3.7/dist-packages (4.23.1)\n",
            "Requirement already satisfied: regex!=2019.12.17 in /usr/local/lib/python3.7/dist-packages (from transformers) (2022.6.2)\n",
            "Requirement already satisfied: importlib-metadata in /usr/local/lib/python3.7/dist-packages (from transformers) (4.13.0)\n",
            "Requirement already satisfied: huggingface-hub<1.0,>=0.10.0 in /usr/local/lib/python3.7/dist-packages (from transformers) (0.10.1)\n",
            "Requirement already satisfied: tokenizers!=0.11.3,<0.14,>=0.11.1 in /usr/local/lib/python3.7/dist-packages (from transformers) (0.13.1)\n",
            "Requirement already satisfied: requests in /usr/local/lib/python3.7/dist-packages (from transformers) (2.23.0)\n",
            "Requirement already satisfied: tqdm>=4.27 in /usr/local/lib/python3.7/dist-packages (from transformers) (4.64.1)\n",
            "Requirement already satisfied: packaging>=20.0 in /usr/local/lib/python3.7/dist-packages (from transformers) (21.3)\n",
            "Requirement already satisfied: pyyaml>=5.1 in /usr/local/lib/python3.7/dist-packages (from transformers) (6.0)\n",
            "Requirement already satisfied: numpy>=1.17 in /usr/local/lib/python3.7/dist-packages (from transformers) (1.21.6)\n",
            "Requirement already satisfied: filelock in /usr/local/lib/python3.7/dist-packages (from transformers) (3.8.0)\n",
            "Requirement already satisfied: typing-extensions>=3.7.4.3 in /usr/local/lib/python3.7/dist-packages (from huggingface-hub<1.0,>=0.10.0->transformers) (4.1.1)\n",
            "Requirement already satisfied: pyparsing!=3.0.5,>=2.0.2 in /usr/local/lib/python3.7/dist-packages (from packaging>=20.0->transformers) (3.0.9)\n",
            "Requirement already satisfied: zipp>=0.5 in /usr/local/lib/python3.7/dist-packages (from importlib-metadata->transformers) (3.9.0)\n",
            "Requirement already satisfied: idna<3,>=2.5 in /usr/local/lib/python3.7/dist-packages (from requests->transformers) (2.10)\n",
            "Requirement already satisfied: chardet<4,>=3.0.2 in /usr/local/lib/python3.7/dist-packages (from requests->transformers) (3.0.4)\n",
            "Requirement already satisfied: urllib3!=1.25.0,!=1.25.1,<1.26,>=1.21.1 in /usr/local/lib/python3.7/dist-packages (from requests->transformers) (1.24.3)\n",
            "Requirement already satisfied: certifi>=2017.4.17 in /usr/local/lib/python3.7/dist-packages (from requests->transformers) (2022.9.24)\n"
          ]
        }
      ]
    },
    {
      "cell_type": "code",
      "source": [
        "import transformers\n",
        "from transformers import BloomForCausalLM\n",
        "from transformers import BloomForTokenClassification\n",
        "from transformers import BloomTokenizerFast\n",
        "import torch"
      ],
      "metadata": {
        "id": "prdnwZiha3hI"
      },
      "execution_count": 25,
      "outputs": []
    },
    {
      "cell_type": "markdown",
      "source": [
        "## Different Blooms"
      ],
      "metadata": {
        "id": "dewB3jAPbGZ0"
      }
    },
    {
      "cell_type": "code",
      "source": [
        "#Main BLOOM has 176 billion parameters\n",
        "\n",
        "#But we have access to smaller versions:\n",
        "#560 million parameters  - bigscience/bloom-560m\n",
        "#1.1 billion parameters - bigscience/bloom-1b1\n",
        "#1.7 billion parameters\n",
        "#3 billion parameters\n",
        "#7.1 billion parameters\n",
        "#may change so check and update as required"
      ],
      "metadata": {
        "id": "YyBYe9-8bLvc"
      },
      "execution_count": 26,
      "outputs": []
    },
    {
      "cell_type": "code",
      "source": [
        "tokenizer = BloomTokenizerFast.from_pretrained(\"bigscience/bloom-1b1\")\n",
        "model = BloomForCausalLM.from_pretrained(\"bigscience/bloom-1b1\")"
      ],
      "metadata": {
        "id": "4VLcTEbzcLwJ"
      },
      "execution_count": 33,
      "outputs": []
    },
    {
      "cell_type": "markdown",
      "source": [
        "# Text generation"
      ],
      "metadata": {
        "id": "AVPXvmRwchKH"
      }
    },
    {
      "cell_type": "code",
      "source": [
        "#Enter first sentences\n",
        "\n",
        "prompt = \"A strategy for engaging underserved communities in South Shields, England in order to improve understanding of health information\"\n",
        "result_length = 500\n",
        "inputs = tokenizer(prompt, return_tensors=\"pt\")"
      ],
      "metadata": {
        "id": "sQdBzHbMcjwn"
      },
      "execution_count": 34,
      "outputs": []
    },
    {
      "cell_type": "code",
      "source": [
        "%%time\n",
        "#the blooms have underscore not hyphens in this section\n",
        "#may take over 5 minutes\n",
        "bloom_1b1 = tokenizer.decode(model.generate(inputs[\"input_ids\"],\n",
        "                                            max_length=result_length,\n",
        "                                            do_sample=True,\n",
        "                                            top_k=50,\n",
        "                                            top_p=0.9\n",
        "                                            )[0])\n",
        "chars_per_line = 75\n",
        "print('Q: ', prompt)\n",
        "\n",
        "for i in range(0, len(bloom_1b1), chars_per_line):\n",
        "  print(bloom_1b1[i:i+chars_per_line])"
      ],
      "metadata": {
        "colab": {
          "base_uri": "https://localhost:8080/"
        },
        "id": "vFyO8QeYdGHA",
        "outputId": "cc7eab02-7aae-4c73-f399-c240d5c0f17e"
      },
      "execution_count": 35,
      "outputs": [
        {
          "output_type": "stream",
          "name": "stdout",
          "text": [
            "Q:  A strategy for engaging underserved communities in South Shields, England in order to improve understanding of health information\n",
            "A strategy for engaging underserved communities in South Shields, England i\n",
            "n order to improve understanding of health information needs\n",
            "Abstract: In 2\n",
            "016, the South Shields City Council engaged the South Shields Community Inf\n",
            "ormation Hub to develop a strategy for engaging underserved communities in \n",
            "South Shields, England in order to improve understanding of health informat\n",
            "ion needs. A series of web-based webinars and discussion forums, which addr\n",
            "essed current health issues and resources, were used to inform and empower \n",
            "community members and educators about the need for health information liter\n",
            "acy and their own health and health literacy. This paper will discuss the i\n",
            "mplementation process and outcomes and present a set of recommendations for\n",
            " future research.\n",
            "1. Introduction It has been estimated that 1 in 3 UK adul\n",
            "ts have limited knowledge of their own health status and there is considera\n",
            "ble variability in knowledge levels between individuals (1, 2). In the UK, \n",
            "the UK National Health Service (NHS) is responsible for most health and men\n",
            "tal health services; however, many individuals do not receive appropriate h\n",
            "ealth information (3). It is important that information about health issues\n",
            " is disseminated in an accessible, understandable, and appropriate manner t\n",
            "o improve communication and facilitate communication with others (3). The S\n",
            "outh Shields City Council is a community-based health service providing a v\n",
            "ariety of services such as primary health care, social and mental health, a\n",
            "nd community support, including one dedicated information hub. The Communit\n",
            "y Information Hub (CIH) in South Shields is a partnership of South Shields \n",
            "City Council and a number of voluntary providers of information and service\n",
            "s. The hub provides a forum for community members to share ideas, concerns,\n",
            " and issues, and facilitates a dialogue on health, wellbeing, and social is\n",
            "sues (4). In collaboration with South Shields City Council, the CIH develop\n",
            "ed a strategy for engaging underserved communities in South Shields in orde\n",
            "r to improve understanding of health information needs and create a platfor\n",
            "m for sharing experiences. The CIH used a variety of strategies including t\n",
            "he provision of a wide range of web-based online resources for all South Sh\n",
            "ields citizens, the development of a community-based health information hub\n",
            " that was to facilitate sharing experiences, and the use of existing social\n",
            " media sites to build community support for the project.\n",
            "2. Aim of the stud\n",
            "y 2.1. Overview of the health information literacy initiative The CIH began\n",
            " with a vision of improving health information literacy by engaging underse\n",
            "rved communities and empowering them to access and use health information. \n",
            "It wanted to address these issues by engaging with community members using \n",
            "a series of web-based webinars and discussion forums to inform and empower \n",
            "the community members and educators on the need for health information lite\n",
            "racy and their own health and health literacy. It also wanted to engage loc\n",
            "al organizations in the process of improving knowledge about health and wel\n",
            "lbeing. These strategies were combined with efforts to build community supp\n",
            "ort for the initiative. The CIH developed a web-based strategy to engage un\n",
            "derserved communities in South Shields. It included three main strategies: \n",
            "(1) the development of an online tool for health literacy that will provide\n",
            " a resource to the community; (2) the development of a discussion forum to \n",
            "enable people to share experiences, ideas, and concerns about health issues\n",
            ", and (3) the development of a web-based tool for health literacy that will\n",
            " enable people to access resources such as videos, articles, and health inf\n",
            "ormation brochures. The CIH has launched its first web-based initiative cal\n",
            "led the Community Health Information Hub (CHIH) which provides free health \n",
            "information in response to the demand for information by individuals in Sou\n",
            "th Shields who have limited health literacy. The CHIH will be open to the p\n",
            "ublic on a free, anonymous, non-commercial basis from August 2017.\n",
            "2.2. Imp\n",
            "lementation process and outcomes The project started in June 2017. The init\n",
            "ial focus of the project was to engage the South Shields community in South\n",
            " Shields using a web-based tool for health literacy. The initiative was als\n",
            "o designed to facilitate a dialogue on health, wellbeing, and social issues\n",
            " through the sharing of experiences, concerns, and ideas and the developmen\n",
            "t of community support. However, this did not meet the goal of addressing t\n",
            "he information gap in South Shields. An assessment of the current health in\n",
            "formation literacy situation in South Shields was made and the community me\n",
            "mbers identified a number of health information needs. The CHIH aimed to ad\n",
            "dress these needs by (1) developing a free online tool for health literacy,\n",
            " (2) facilitating a discussion forum on health, wellbeing, and social issue\n",
            "s, and (3) providing resources, such as videos, articles, and brochures.\n",
            "Th\n",
            "e project was launched on August 2017. The first web-based initiative was l\n",
            "aunched by the CIH in August 2017, and the CHIH was launched in September 2\n",
            "017. The focus of the web-based initiative was to provide health informatio\n",
            "n by using an online tool to improve the health literacy of South Shields c\n",
            "itizens, which was supported by a discussion forum, a free website, and a b\n",
            "rochure for information. The web-based tool was developed with the support \n",
            "of the South Shields City Council and included a section on health and well\n",
            "being. The discussion forum and brochure included a section on the topic of\n",
            " information and was developed in collaboration with South Shields City Cou\n",
            "ncil and voluntary providers of information. The online tool was then launc\n",
            "hed in September 2017.\n",
            "The discussion forum and brochure were developed as \n",
            "part of a wider strategy to improve health information literacy in South Sh\n",
            "ields by engaging the community. The discussion forum was developed to prov\n",
            "ide a platform for sharing experiences, concerns, and ideas. This was used \n",
            "as a forum for the community to share their concerns and ideas. The discuss\n",
            "ion forum will be used by the CIH to inform community members and educators\n",
            " about the current situation regarding health, wellbeing, and social issues\n",
            ". The discussion forum will be a forum for the community to share experienc\n",
            "es, concerns, and ideas and will be a platform to build community support. \n",
            "Community members will use the forum to share their experiences, concerns, \n",
            "and ideas and to build community support.\n",
            "An assessment was made in Septemb\n",
            "er 2017 to assess the current health information literacy situation in Sout\n",
            "h Shields and the level of health literacy of South Shields citizens. The a\n",
            "ssessment included a structured questionnaire to collect data on health, we\n",
            "llbeing, and social issues as well as the current availability of health in\n",
            "formation in South Shields.\n",
            "3. A set of recommendations for future research\n",
            " 3.1. Aim of the study 2.3. Aim of the study 3.2. Aim of the study The aim \n",
            "of this study was to further explore the implementation process of the CIH \n",
            "using an empirical research methodology. The study focused on how the CIH d\n",
            "eveloped an online tool to provide health information to South Shields citi\n",
            "zens. The main aim of the study was to explore how the CIH developed a disc\n",
            "ussion forum on health, wellbeing, and social issues and whether or not the\n",
            " CIH developed a resource for people who have limited health literacy. The \n",
            "study also aimed to assess whether the CIH has managed to build community s\n",
            "upport and if so, to explore whether this community support has led to more\n",
            " positive changes to health literacy. The study also explored how the CIH i\n",
            "mplemented the resources developed in its strategy to engage the community \n",
            "and has built community support.\n",
            "Methods\n",
            "A qualitative study was conducted \n",
            "using an in-depth, qualitative method of data collection with a focus on un\n",
            "derstanding the processes of implementation. The main goal of the study was\n",
            " to provide a description of the process used to develop and implement the \n",
            "web-based initiative in South Shield\n",
            "CPU times: user 13min 20s, sys: 21.5 s, total: 13min 41s\n",
            "Wall time: 13min 43s\n"
          ]
        }
      ]
    },
    {
      "cell_type": "code",
      "source": [],
      "metadata": {
        "id": "-zRPq2KBeOCY"
      },
      "execution_count": 35,
      "outputs": []
    }
  ]
}